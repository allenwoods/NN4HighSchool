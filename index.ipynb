{
 "cells": [
  {
   "cell_type": "code",
   "execution_count": 11,
   "metadata": {
    "slideshow": {
     "slide_type": "skip"
    }
   },
   "outputs": [],
   "source": [
    "import os\n",
    "import numpy as np\n",
    "import pandas as pd\n",
    "from matplotlib import pyplot as plt\n",
    "import seaborn as sns\n",
    "from ipywidgets import interact, interactive, fixed, interact_manual\n",
    "import ipywidgets as widgets\n",
    "from IPython import display\n",
    "import gym\n",
    "%matplotlib inline"
   ]
  },
  {
   "cell_type": "code",
   "execution_count": 15,
   "metadata": {
    "slideshow": {
     "slide_type": "skip"
    }
   },
   "outputs": [],
   "source": [
    "sns.set(context='notebook', \n",
    "        style='white', \n",
    "        palette='Set1', \n",
    "        font='sans-serif', \n",
    "        font_scale=1, \n",
    "        color_codes=False, \n",
    "        rc=None)\n",
    "os.environ['CUDA_VISIBLE_DEVICES']=\"0\""
   ]
  },
  {
   "cell_type": "code",
   "execution_count": 17,
   "metadata": {
    "slideshow": {
     "slide_type": "slide"
    }
   },
   "outputs": [
    {
     "data": {
      "image/png": "[encoded data removed]",
      "text/plain": [
       "<matplotlib.figure.Figure at 0x127c5ad1208>"
      ]
     },
     "metadata": {},
     "output_type": "display_data"
    }
   ],
   "source": [
    "env = gym.make('Breakout-v0')\n",
    "env.reset()\n",
    "img = plt.imshow(env.render(mode='rgb_array')) # only call this once\n",
    "plt.axis('off')\n",
    "for _ in range(100):\n",
    "    img.set_data(env.render(mode='rgb_array')) # just update the data\n",
    "    display.display(plt.gcf())\n",
    "    display.clear_output(wait=True)\n",
    "    action = env.action_space.sample()\n",
    "    env.step(action)"
   ]
  },
  {
   "cell_type": "code",
   "execution_count": 18,
   "metadata": {
    "slideshow": {
     "slide_type": "slide"
    }
   },
   "outputs": [],
   "source": [
    "def add(a, b):\n",
    "#     display(a + b)\n",
    "    plt.plot(np.linspace(0, 10, 10), [z.result for i in range(10)])\n",
    "    plt.show()\n",
    "    return a + b"
   ]
  },
  {
   "cell_type": "code",
   "execution_count": 19,
   "metadata": {
    "slideshow": {
     "slide_type": "-"
    }
   },
   "outputs": [],
   "source": [
    "z = interactive(add, a=10, b=10);"
   ]
  },
  {
   "cell_type": "code",
   "execution_count": 21,
   "metadata": {
    "slideshow": {
     "slide_type": "-"
    }
   },
   "outputs": [
    {
     "name": "stderr",
     "output_type": "stream",
     "text": [
      "Widget Javascript not detected.  It may not be installed or enabled properly.\n"
     ]
    },
    {
     "data": {
      "application/vnd.jupyter.widget-view+json": {
       "model_id": "3338a684a89444ab9f26fb432cb5bcbf"
      }
     },
     "metadata": {},
     "output_type": "display_data"
    }
   ],
   "source": [
    "display.display(z)"
   ]
  },
  {
   "cell_type": "markdown",
   "metadata": {
    "slideshow": {
     "slide_type": "slide"
    }
   },
   "source": [
    "# 不可思议的神经网络"
   ]
  },
  {
   "cell_type": "code",
   "execution_count": 47,
   "metadata": {
    "slideshow": {
     "slide_type": "slide"
    }
   },
   "outputs": [
    {
     "data": {
      "text/html": [
       "<html>\n",
       "<head>\n",
       "<title>minimal demo</title>\n",
       " \n",
       "<!-- CSS goes here -->\n",
       "<style>\n",
       "body {\n",
       "  background-color: #FFF; /* example... */\n",
       "}\n",
       "</style>\n",
       " \n",
       "<!-- import convnetjs library -->\n",
       "<script src=\"http://cs.stanford.edu/people/karpathy/convnetjs/build/convnet-min.js\"></script>\n",
       " \n",
       "<!-- javascript goes here -->\n",
       "<script type=\"text/javascript\">\n",
       " \n",
       "function periodic() {\n",
       "  var d = document.getElementById('egdiv');\n",
       "  d.innerHTML = 'Random number: ' + Math.random()\n",
       "}\n",
       " \n",
       "var net; // declared outside -> global variable in window scope\n",
       "function start() {\n",
       "  // this gets executed on startup\n",
       "  //... \n",
       "  net = new convnetjs.Net();\n",
       "  // ...\n",
       " \n",
       "  // example of running something every 1 second\n",
       "  setInterval(periodic, 1000);\n",
       "}\n",
       " \n",
       "</script>\n",
       "</head>\n",
       " \n",
       "<body onload=\"start()\">\n",
       "<div id=\"egdiv\"></div>\n",
       "</body>\n",
       "</html>"
      ],
      "text/plain": [
       "<IPython.core.display.HTML object>"
      ]
     },
     "metadata": {},
     "output_type": "display_data"
    }
   ],
   "source": [
    "%%html\n",
    "<html>\n",
    "<head>\n",
    "<title>minimal demo</title>\n",
    " \n",
    "<!-- CSS goes here -->\n",
    "<style>\n",
    "body {\n",
    "  background-color: #FFF; /* example... */\n",
    "}\n",
    "</style>\n",
    " \n",
    "<!-- import convnetjs library -->\n",
    "<script src=\"http://cs.stanford.edu/people/karpathy/convnetjs/build/convnet-min.js\"></script>\n",
    " \n",
    "<!-- javascript goes here -->\n",
    "<script type=\"text/javascript\">\n",
    " \n",
    "function periodic() {\n",
    "  var d = document.getElementById('egdiv');\n",
    "  d.innerHTML = 'Random number: ' + Math.random()\n",
    "}\n",
    " \n",
    "var net; // declared outside -> global variable in window scope\n",
    "function start() {\n",
    "  // this gets executed on startup\n",
    "  //... \n",
    "  net = new convnetjs.Net();\n",
    "  // ...\n",
    " \n",
    "  // example of running something every 1 second\n",
    "  setInterval(periodic, 1000);\n",
    "}\n",
    " \n",
    "</script>\n",
    "</head>\n",
    " \n",
    "<body onload=\"start()\">\n",
    "<div id=\"egdiv\"></div>\n",
    "</body>\n",
    "</html>"
   ]
  },
  {
   "cell_type": "code",
   "execution_count": null,
   "metadata": {},
   "outputs": [],
   "source": []
  }
 ],
 "metadata": {
  "celltoolbar": "Slideshow",
  "kernelspec": {
   "display_name": "Python 3",
   "language": "python",
   "name": "python3"
  },
  "language_info": {
   "codemirror_mode": {
    "name": "ipython",
    "version": 3
   },
   "file_extension": ".py",
   "mimetype": "text/x-python",
   "name": "python",
   "nbconvert_exporter": "python",
   "pygments_lexer": "ipython3",
   "version": "3.6.1"
  }
 },
 "nbformat": 4,
 "nbformat_minor": 2
}
